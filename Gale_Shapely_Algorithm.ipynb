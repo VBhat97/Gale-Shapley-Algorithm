{
  "nbformat": 4,
  "nbformat_minor": 0,
  "metadata": {
    "colab": {
      "name": "Problem2.ipynb",
      "provenance": [],
      "include_colab_link": true
    },
    "kernelspec": {
      "name": "python3",
      "display_name": "Python 3"
    }
  },
  "cells": [
    {
      "cell_type": "markdown",
      "metadata": {
        "id": "view-in-github",
        "colab_type": "text"
      },
      "source": [
        "<a href=\"https://colab.research.google.com/github/VBhat97/Gale-Shapley-Algorithm/blob/master/Gale_Shapely_Algorithm.ipynb\" target=\"_parent\"><img src=\"https://colab.research.google.com/assets/colab-badge.svg\" alt=\"Open In Colab\"/></a>"
      ]
    },
    {
      "cell_type": "code",
      "metadata": {
        "id": "cOzdFF-0Dc4U",
        "colab_type": "code",
        "colab": {}
      },
      "source": [
        "import random"
      ],
      "execution_count": 0,
      "outputs": []
    },
    {
      "cell_type": "code",
      "metadata": {
        "id": "4JdRpzs_De1H",
        "colab_type": "code",
        "colab": {}
      },
      "source": [
        "#Defining number of students and colleges\n",
        "num_students=5000\n",
        "num_colleges=15"
      ],
      "execution_count": 0,
      "outputs": []
    },
    {
      "cell_type": "code",
      "metadata": {
        "id": "xc8WYNTHDgIO",
        "colab_type": "code",
        "colab": {}
      },
      "source": [
        "#Randomly adding students preferences of colleges\n",
        "student_pref=[]\n",
        "\n",
        "for i in range(num_students):\n",
        "    temp=[]\n",
        "    for j in range(num_colleges):\n",
        "        temp.append(j)\n",
        "    random.shuffle(temp)\n",
        "    student_pref.append(temp)"
      ],
      "execution_count": 0,
      "outputs": []
    },
    {
      "cell_type": "code",
      "metadata": {
        "id": "ggKq3alMDhxK",
        "colab_type": "code",
        "colab": {}
      },
      "source": [
        "#Randomly adding college preferences of students\n",
        "college_pref=[]\n",
        "\n",
        "for i in range(num_colleges):\n",
        "    temp=[]\n",
        "    for j in range(num_students):\n",
        "        temp.append(j)\n",
        "    random.shuffle(temp)\n",
        "    college_pref.append(temp)"
      ],
      "execution_count": 0,
      "outputs": []
    },
    {
      "cell_type": "code",
      "metadata": {
        "id": "lSQsEFYGDjkj",
        "colab_type": "code",
        "colab": {}
      },
      "source": [
        "#This list would store the students allocated to a college.\n",
        "#Row 0 would indicate College 0, Row 1 would College 1, and so on.\n",
        "college_lists=[]\n",
        "for i in range(num_colleges):\n",
        "  temp=[]\n",
        "  college_lists.append(temp)"
      ],
      "execution_count": 0,
      "outputs": []
    },
    {
      "cell_type": "code",
      "metadata": {
        "id": "FdrELYXCJxEw",
        "colab_type": "code",
        "colab": {}
      },
      "source": [
        "#Randomly allocate College accepting number of students between 30 and 40.\n",
        "college_capacity=[]\n",
        "for i in range(num_colleges):\n",
        "  college_capacity.append(random.randint(30,40))"
      ],
      "execution_count": 0,
      "outputs": []
    },
    {
      "cell_type": "code",
      "metadata": {
        "id": "XVgjQo3LKBUT",
        "colab_type": "code",
        "outputId": "43d40cb9-be2b-4734-c2d6-7b70783601d7",
        "colab": {
          "base_uri": "https://localhost:8080/",
          "height": 34
        }
      },
      "source": [
        "print(college_capacity)"
      ],
      "execution_count": 0,
      "outputs": [
        {
          "output_type": "stream",
          "text": [
            "[39, 32, 32, 38, 30, 31, 35, 37, 32, 36, 32, 39, 40, 37, 36]\n"
          ],
          "name": "stdout"
        }
      ]
    },
    {
      "cell_type": "code",
      "metadata": {
        "id": "d9I_Vg0LPSh-",
        "colab_type": "code",
        "colab": {}
      },
      "source": [
        "#Store the number of unselected students (Total students - Number of available college seats) for termination condition\n",
        "no_of_unselected_students=num_students-sum(college_capacity)"
      ],
      "execution_count": 0,
      "outputs": []
    },
    {
      "cell_type": "code",
      "metadata": {
        "id": "NAaut0WbDrAv",
        "colab_type": "code",
        "colab": {}
      },
      "source": [
        "#Creating the list of free students. For start, all students are free i.e. not allocated to any college\n",
        "free_students=[]\n",
        "for i in range(num_students):\n",
        "  free_students.append(i)"
      ],
      "execution_count": 0,
      "outputs": []
    },
    {
      "cell_type": "code",
      "metadata": {
        "id": "g0LNUTP3DmBw",
        "colab_type": "code",
        "outputId": "87313b0c-dfad-495a-9bfa-d620bfb44e37",
        "colab": {
          "base_uri": "https://localhost:8080/",
          "height": 1000
        }
      },
      "source": [
        "#For storing students who do not have any college that prefer them.\n",
        "rejected_from_all=[]\n",
        "new_free_students=[]\n",
        "count=1\n",
        "#Exit condition: When number of students who are not preferred by all the colleges are equal to number of unselected students.\n",
        "while len(rejected_from_all)!=no_of_unselected_students:\n",
        "  print(\"Loop Number : \"+str(count))\n",
        "  print(\"Number of surely rejected students : \"+str(len(rejected_from_all)))\n",
        "  new_free_students=free_students\n",
        "  free_students=[]\n",
        "  #Looping through all the free students\n",
        "  for i in new_free_students:\n",
        "    #Looping through their preferences\n",
        "    for j in range(0,len(student_pref[i])):\n",
        "      flag=0\n",
        "      #If there is space in their most preferred college, allocated that student to that college.\n",
        "      if len(college_lists[student_pref[i][j]])<college_capacity[student_pref[i][j]]:\n",
        "        college_lists[student_pref[i][j]].append(i)\n",
        "        break\n",
        "      #If there is no space in their most preffered college, check all the students currently allocated.\n",
        "      #If there is a student less preferred by the college already allocated compared to this free student\n",
        "      #Replace the less preferred student with this free student\n",
        "      else:\n",
        "        flag=2\n",
        "        #Looping through the colleges already allocated students\n",
        "        for k in college_lists[student_pref[i][j]]:\n",
        "          #If we find a less preferred student allocated compared to this free student\n",
        "          if college_pref[student_pref[i][j]].index(i)<college_pref[student_pref[i][j]].index(k):\n",
        "            #Replacing that guy\n",
        "            index=college_lists[student_pref[i][j]].index(k)\n",
        "            stud=college_lists[student_pref[i][j]].pop(index)\n",
        "            #Adding the less preferred student back to the free_students list\n",
        "            free_students.append(stud)\n",
        "            #Inserting this more preferred student in the college allocation\n",
        "            college_lists[student_pref[i][j]].insert(index,i)\n",
        "            flag=1\n",
        "            break\n",
        "        if flag==1:\n",
        "          break\n",
        "    #If the student is not preferred over the current allocated students, he is definitely rejected by all college\n",
        "    #Since the students who are more preferred are already allocated to the colleges.\n",
        "    #Add him to the reject_from_all list.\n",
        "    if flag==2:\n",
        "      rejected_from_all.append(i)\n",
        "  count=count+1"
      ],
      "execution_count": 0,
      "outputs": [
        {
          "output_type": "stream",
          "text": [
            "Loop Number : 1\n",
            "Number of surely rejected students : 0\n",
            "Loop Number : 2\n",
            "Number of surely rejected students : 0\n",
            "Loop Number : 3\n",
            "Number of surely rejected students : 20\n",
            "Loop Number : 4\n",
            "Number of surely rejected students : 389\n",
            "Loop Number : 5\n",
            "Number of surely rejected students : 1268\n",
            "Loop Number : 6\n",
            "Number of surely rejected students : 2030\n",
            "Loop Number : 7\n",
            "Number of surely rejected students : 2604\n",
            "Loop Number : 8\n",
            "Number of surely rejected students : 3016\n",
            "Loop Number : 9\n",
            "Number of surely rejected students : 3324\n",
            "Loop Number : 10\n",
            "Number of surely rejected students : 3535\n",
            "Loop Number : 11\n",
            "Number of surely rejected students : 3701\n",
            "Loop Number : 12\n",
            "Number of surely rejected students : 3810\n",
            "Loop Number : 13\n",
            "Number of surely rejected students : 3880\n",
            "Loop Number : 14\n",
            "Number of surely rejected students : 3932\n",
            "Loop Number : 15\n",
            "Number of surely rejected students : 4004\n",
            "Loop Number : 16\n",
            "Number of surely rejected students : 4042\n",
            "Loop Number : 17\n",
            "Number of surely rejected students : 4075\n",
            "Loop Number : 18\n",
            "Number of surely rejected students : 4112\n",
            "Loop Number : 19\n",
            "Number of surely rejected students : 4145\n",
            "Loop Number : 20\n",
            "Number of surely rejected students : 4197\n",
            "Loop Number : 21\n",
            "Number of surely rejected students : 4224\n",
            "Loop Number : 22\n",
            "Number of surely rejected students : 4250\n",
            "Loop Number : 23\n",
            "Number of surely rejected students : 4263\n",
            "Loop Number : 24\n",
            "Number of surely rejected students : 4276\n",
            "Loop Number : 25\n",
            "Number of surely rejected students : 4284\n",
            "Loop Number : 26\n",
            "Number of surely rejected students : 4296\n",
            "Loop Number : 27\n",
            "Number of surely rejected students : 4310\n",
            "Loop Number : 28\n",
            "Number of surely rejected students : 4327\n",
            "Loop Number : 29\n",
            "Number of surely rejected students : 4339\n",
            "Loop Number : 30\n",
            "Number of surely rejected students : 4349\n",
            "Loop Number : 31\n",
            "Number of surely rejected students : 4361\n",
            "Loop Number : 32\n",
            "Number of surely rejected students : 4367\n",
            "Loop Number : 33\n",
            "Number of surely rejected students : 4379\n",
            "Loop Number : 34\n",
            "Number of surely rejected students : 4394\n",
            "Loop Number : 35\n",
            "Number of surely rejected students : 4402\n",
            "Loop Number : 36\n",
            "Number of surely rejected students : 4409\n",
            "Loop Number : 37\n",
            "Number of surely rejected students : 4420\n",
            "Loop Number : 38\n",
            "Number of surely rejected students : 4428\n",
            "Loop Number : 39\n",
            "Number of surely rejected students : 4435\n",
            "Loop Number : 40\n",
            "Number of surely rejected students : 4442\n",
            "Loop Number : 41\n",
            "Number of surely rejected students : 4446\n",
            "Loop Number : 42\n",
            "Number of surely rejected students : 4454\n",
            "Loop Number : 43\n",
            "Number of surely rejected students : 4456\n",
            "Loop Number : 44\n",
            "Number of surely rejected students : 4457\n",
            "Loop Number : 45\n",
            "Number of surely rejected students : 4460\n",
            "Loop Number : 46\n",
            "Number of surely rejected students : 4464\n",
            "Loop Number : 47\n",
            "Number of surely rejected students : 4465\n",
            "Loop Number : 48\n",
            "Number of surely rejected students : 4466\n",
            "Loop Number : 49\n",
            "Number of surely rejected students : 4467\n",
            "Loop Number : 50\n",
            "Number of surely rejected students : 4467\n",
            "Loop Number : 51\n",
            "Number of surely rejected students : 4467\n",
            "Loop Number : 52\n",
            "Number of surely rejected students : 4468\n",
            "Loop Number : 53\n",
            "Number of surely rejected students : 4468\n",
            "Loop Number : 54\n",
            "Number of surely rejected students : 4470\n",
            "Loop Number : 55\n",
            "Number of surely rejected students : 4470\n",
            "Loop Number : 56\n",
            "Number of surely rejected students : 4470\n",
            "Loop Number : 57\n",
            "Number of surely rejected students : 4470\n",
            "Loop Number : 58\n",
            "Number of surely rejected students : 4470\n",
            "Loop Number : 59\n",
            "Number of surely rejected students : 4471\n",
            "Loop Number : 60\n",
            "Number of surely rejected students : 4471\n",
            "Loop Number : 61\n",
            "Number of surely rejected students : 4471\n",
            "Loop Number : 62\n",
            "Number of surely rejected students : 4471\n",
            "Loop Number : 63\n",
            "Number of surely rejected students : 4471\n",
            "Loop Number : 64\n",
            "Number of surely rejected students : 4471\n",
            "Loop Number : 65\n",
            "Number of surely rejected students : 4471\n",
            "Loop Number : 66\n",
            "Number of surely rejected students : 4471\n",
            "Loop Number : 67\n",
            "Number of surely rejected students : 4471\n",
            "Loop Number : 68\n",
            "Number of surely rejected students : 4471\n",
            "Loop Number : 69\n",
            "Number of surely rejected students : 4471\n",
            "Loop Number : 70\n",
            "Number of surely rejected students : 4472\n",
            "Loop Number : 71\n",
            "Number of surely rejected students : 4472\n",
            "Loop Number : 72\n",
            "Number of surely rejected students : 4472\n",
            "Loop Number : 73\n",
            "Number of surely rejected students : 4472\n",
            "Loop Number : 74\n",
            "Number of surely rejected students : 4472\n",
            "Loop Number : 75\n",
            "Number of surely rejected students : 4473\n",
            "Loop Number : 76\n",
            "Number of surely rejected students : 4473\n",
            "Loop Number : 77\n",
            "Number of surely rejected students : 4473\n",
            "Loop Number : 78\n",
            "Number of surely rejected students : 4473\n",
            "Loop Number : 79\n",
            "Number of surely rejected students : 4473\n"
          ],
          "name": "stdout"
        }
      ]
    },
    {
      "cell_type": "code",
      "metadata": {
        "id": "RdoynikfQH7K",
        "colab_type": "code",
        "outputId": "8983c4bf-2ded-4566-ae12-b7adca12aebe",
        "colab": {
          "base_uri": "https://localhost:8080/",
          "height": 1000
        }
      },
      "source": [
        "for i in range(len(college_lists)):\n",
        "  print(\"Students who are allocated in college : \"+str(i))\n",
        "  print(college_lists[i])\n",
        "  print(\"Number of students allocated in that college : \"+str(len(college_lists[i])))\n",
        "  print()"
      ],
      "execution_count": 0,
      "outputs": [
        {
          "output_type": "stream",
          "text": [
            "Students who are allocated in college : 0\n",
            "[1423, 1657, 889, 4956, 2115, 754, 409, 2920, 2248, 1274, 41, 4102, 2112, 40, 2570, 3008, 2726, 2636, 4461, 2908, 2374, 4759, 926, 2041, 302, 833, 3466, 385, 1795, 4196, 4840, 1430, 2025, 590, 977, 650, 4962, 331, 4871]\n",
            "Number of students allocated in that college : 39\n",
            "\n",
            "Students who are allocated in college : 1\n",
            "[4746, 4523, 928, 1011, 2838, 2117, 4373, 2922, 3164, 3212, 1360, 3407, 2678, 3587, 177, 1120, 2591, 3675, 246, 3894, 4397, 1515, 4282, 4272, 3881, 1843, 1265, 967, 2697, 2850, 4020, 4246]\n",
            "Number of students allocated in that college : 32\n",
            "\n",
            "Students who are allocated in college : 2\n",
            "[1086, 4105, 2174, 4793, 2306, 4193, 1049, 1336, 4757, 209, 1462, 1928, 1520, 4589, 1497, 1537, 931, 3454, 1289, 4063, 1138, 4007, 1482, 529, 849, 1716, 2718, 84, 3031, 856, 3201, 1210]\n",
            "Number of students allocated in that college : 32\n",
            "\n",
            "Students who are allocated in college : 3\n",
            "[677, 969, 1962, 726, 648, 4111, 2645, 1095, 4035, 3863, 3607, 4438, 4818, 23, 4905, 2631, 103, 509, 4690, 3433, 3126, 4732, 2950, 395, 1300, 3612, 1827, 1738, 4437, 3768, 3625, 4130, 4018, 661, 4247, 132, 4195, 2595]\n",
            "Number of students allocated in that college : 38\n",
            "\n",
            "Students who are allocated in college : 4\n",
            "[4210, 4808, 3891, 613, 3746, 4898, 3655, 163, 3896, 2536, 4680, 2911, 1277, 1561, 2692, 2837, 2674, 2981, 2246, 4913, 935, 1732, 816, 1673, 3877, 3309, 779, 1749, 3847, 3500]\n",
            "Number of students allocated in that college : 30\n",
            "\n",
            "Students who are allocated in college : 5\n",
            "[2505, 2453, 4490, 1251, 4540, 2529, 4681, 773, 2218, 3349, 4261, 668, 2596, 2143, 3135, 1072, 3608, 1569, 4992, 3871, 3566, 1799, 2358, 3067, 2093, 62, 4328, 146, 4442, 2142, 585]\n",
            "Number of students allocated in that college : 31\n",
            "\n",
            "Students who are allocated in college : 6\n",
            "[1104, 2695, 3357, 3694, 2132, 2610, 1986, 4129, 1139, 4815, 3931, 1679, 220, 1970, 4930, 1535, 4684, 2337, 2852, 4221, 3705, 2902, 2915, 3892, 3556, 4056, 2341, 3376, 4460, 1048, 4106, 632, 2056, 2211, 2628]\n",
            "Number of students allocated in that college : 35\n",
            "\n",
            "Students who are allocated in college : 7\n",
            "[701, 160, 4278, 3463, 3723, 1424, 1285, 4623, 1878, 1317, 2508, 3016, 3873, 900, 1683, 2078, 1900, 468, 2510, 893, 22, 674, 906, 2840, 3633, 179, 2672, 92, 4456, 1889, 694, 451, 2625, 4325, 948, 1195, 197]\n",
            "Number of students allocated in that college : 37\n",
            "\n",
            "Students who are allocated in college : 8\n",
            "[4276, 4143, 1426, 2520, 1666, 260, 1730, 1923, 3, 4307, 4774, 1600, 3075, 2568, 2153, 181, 3734, 2622, 3152, 1441, 535, 461, 1769, 581, 3497, 3969, 3322, 4283, 256, 4877, 561, 3082]\n",
            "Number of students allocated in that college : 32\n",
            "\n",
            "Students who are allocated in college : 9\n",
            "[4449, 3754, 106, 1706, 1994, 3532, 4780, 4145, 3167, 785, 1434, 15, 3261, 2461, 4430, 3990, 3567, 3014, 3565, 3438, 4678, 1533, 4758, 3665, 1703, 3294, 3888, 1931, 2968, 3085, 654, 356, 478, 3843, 1019, 392]\n",
            "Number of students allocated in that college : 36\n",
            "\n",
            "Students who are allocated in college : 10\n",
            "[410, 3455, 3971, 3604, 3134, 495, 1270, 73, 4671, 3568, 1456, 3449, 2993, 2667, 3585, 4888, 772, 3951, 1506, 2721, 3481, 3725, 2446, 3946, 67, 2324, 4919, 3214, 2060, 976, 2967, 4232]\n",
            "Number of students allocated in that college : 32\n",
            "\n",
            "Students who are allocated in college : 11\n",
            "[1231, 3985, 3467, 3895, 3858, 2028, 3842, 2357, 4716, 4248, 4988, 3884, 2447, 1664, 301, 2305, 2223, 3788, 4530, 4770, 2345, 4462, 449, 3899, 4646, 2670, 1330, 3429, 3272, 1568, 978, 1596, 1262, 4908, 1276, 2444, 1682, 4060, 149]\n",
            "Number of students allocated in that college : 39\n",
            "\n",
            "Students who are allocated in college : 12\n",
            "[4465, 1140, 2179, 1894, 4486, 998, 3374, 4004, 4810, 3236, 1608, 4624, 1552, 699, 4960, 4292, 2758, 3160, 472, 2501, 1323, 4639, 1856, 4206, 2921, 2826, 3960, 3676, 4138, 1713, 1858, 4573, 4751, 2266, 444, 4633, 3155, 2694, 1299, 1952]\n",
            "Number of students allocated in that college : 40\n",
            "\n",
            "Students who are allocated in college : 13\n",
            "[3262, 3802, 1158, 238, 853, 4738, 3229, 930, 903, 4568, 3503, 4886, 252, 3003, 475, 2683, 4820, 2244, 2149, 1938, 2129, 2860, 78, 4345, 4047, 3498, 3420, 422, 1953, 4699, 544, 3844, 2614, 3718, 4607, 1013, 2955]\n",
            "Number of students allocated in that college : 37\n",
            "\n",
            "Students who are allocated in college : 14\n",
            "[3699, 4696, 4066, 3851, 1115, 2327, 3631, 4629, 1972, 4331, 4788, 2311, 4827, 708, 3270, 2294, 4093, 3887, 2468, 2600, 2914, 1728, 4978, 426, 4141, 3852, 4834, 4444, 4153, 1829, 1416, 1071, 1390, 1750, 2458, 3285]\n",
            "Number of students allocated in that college : 36\n",
            "\n"
          ],
          "name": "stdout"
        }
      ]
    },
    {
      "cell_type": "code",
      "metadata": {
        "id": "XftW0P2WeTm3",
        "colab_type": "code",
        "outputId": "f8936639-f834-4ad4-9b73-dcca5761b41b",
        "colab": {
          "base_uri": "https://localhost:8080/",
          "height": 34
        }
      },
      "source": [
        "print(\"Number of students who could not get any college : \"+str(len(rejected_from_all)))"
      ],
      "execution_count": 0,
      "outputs": [
        {
          "output_type": "stream",
          "text": [
            "Number of students who could not get any college : 4474\n"
          ],
          "name": "stdout"
        }
      ]
    }
  ]
}